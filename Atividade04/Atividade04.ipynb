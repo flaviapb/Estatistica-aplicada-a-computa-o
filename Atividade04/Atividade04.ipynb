{
 "cells": [
  {
   "cell_type": "markdown",
   "id": "76045902",
   "metadata": {},
   "source": [
    "<h4>Campus Campina Grande</h4>\n",
    "<h4>Curso: Engenharia de Computação</h4>\n",
    "<h4>Disciplina: Estatística aplicada a computação</h4>\n",
    "<h4>Professor: Paulo Ribeiro Lins Júnior</h4>\n",
    "<h4>Aluno: Flávia Renata Vieira do Nascimento</h4>\n",
    "<hr>\n",
    "<center><h1 style=\"color:Blue;\">Lista de Exercicio da Semana 4</h1></center> \n",
    "<hr>\n",
    "<br>\n"
   ]
  },
  {
   "cell_type": "markdown",
   "id": "a3c1f0f3",
   "metadata": {},
   "source": [
    "<h3 style=\"color:Blue;\"><center>1.Considere as tabelas de vendas diárias de três lojas:</center></h3>\n"
   ]
  },
  {
   "cell_type": "code",
   "execution_count": 1,
   "id": "236bbe8a",
   "metadata": {},
   "outputs": [
    {
     "name": "stdout",
     "output_type": "stream",
     "text": [
      "--------------- TABELA A --------------------\n"
     ]
    },
    {
     "data": {
      "text/html": [
       "<div>\n",
       "<style scoped>\n",
       "    .dataframe tbody tr th:only-of-type {\n",
       "        vertical-align: middle;\n",
       "    }\n",
       "\n",
       "    .dataframe tbody tr th {\n",
       "        vertical-align: top;\n",
       "    }\n",
       "\n",
       "    .dataframe thead th {\n",
       "        text-align: right;\n",
       "    }\n",
       "</style>\n",
       "<table border=\"1\" class=\"dataframe\">\n",
       "  <thead>\n",
       "    <tr style=\"text-align: right;\">\n",
       "      <th></th>\n",
       "      <th>loja</th>\n",
       "      <th>dia</th>\n",
       "      <th>valor</th>\n",
       "    </tr>\n",
       "  </thead>\n",
       "  <tbody>\n",
       "    <tr>\n",
       "      <th>0</th>\n",
       "      <td>A</td>\n",
       "      <td>sex</td>\n",
       "      <td>7500</td>\n",
       "    </tr>\n",
       "    <tr>\n",
       "      <th>1</th>\n",
       "      <td>A</td>\n",
       "      <td>sab</td>\n",
       "      <td>9500</td>\n",
       "    </tr>\n",
       "    <tr>\n",
       "      <th>2</th>\n",
       "      <td>A</td>\n",
       "      <td>dom</td>\n",
       "      <td>8200</td>\n",
       "    </tr>\n",
       "  </tbody>\n",
       "</table>\n",
       "</div>"
      ],
      "text/plain": [
       "  loja  dia  valor\n",
       "0    A  sex   7500\n",
       "1    A  sab   9500\n",
       "2    A  dom   8200"
      ]
     },
     "execution_count": 1,
     "metadata": {},
     "output_type": "execute_result"
    }
   ],
   "source": [
    "import numpy as np\n",
    "import pandas as pd\n",
    "\n",
    "print(\"--------------- TABELA A --------------------\")\n",
    "\n",
    "lojaA = pd.DataFrame({\"loja\":[\"A\", \"A\", \"A\"],\n",
    "                          \"dia\": [\"sex\", \"sab\", \"dom\"],\n",
    "                         \"valor\":[7500, 9500, 8200]}\n",
    "\n",
    "                        )\n",
    "lojaA"
   ]
  },
  {
   "cell_type": "code",
   "execution_count": 27,
   "id": "591dddc7",
   "metadata": {},
   "outputs": [
    {
     "name": "stdout",
     "output_type": "stream",
     "text": [
      "\n",
      "--------------- TABELA B --------------------\n",
      "\n"
     ]
    },
    {
     "data": {
      "text/html": [
       "<div>\n",
       "<style scoped>\n",
       "    .dataframe tbody tr th:only-of-type {\n",
       "        vertical-align: middle;\n",
       "    }\n",
       "\n",
       "    .dataframe tbody tr th {\n",
       "        vertical-align: top;\n",
       "    }\n",
       "\n",
       "    .dataframe thead th {\n",
       "        text-align: right;\n",
       "    }\n",
       "</style>\n",
       "<table border=\"1\" class=\"dataframe\">\n",
       "  <thead>\n",
       "    <tr style=\"text-align: right;\">\n",
       "      <th></th>\n",
       "      <th>loja</th>\n",
       "      <th>dia</th>\n",
       "      <th>valor</th>\n",
       "    </tr>\n",
       "  </thead>\n",
       "  <tbody>\n",
       "    <tr>\n",
       "      <th>0</th>\n",
       "      <td>B</td>\n",
       "      <td>sex</td>\n",
       "      <td>5100</td>\n",
       "    </tr>\n",
       "    <tr>\n",
       "      <th>1</th>\n",
       "      <td>B</td>\n",
       "      <td>sab</td>\n",
       "      <td>8250</td>\n",
       "    </tr>\n",
       "    <tr>\n",
       "      <th>2</th>\n",
       "      <td>B</td>\n",
       "      <td>dom</td>\n",
       "      <td>9900</td>\n",
       "    </tr>\n",
       "  </tbody>\n",
       "</table>\n",
       "</div>"
      ],
      "text/plain": [
       "  loja  dia  valor\n",
       "0    B  sex   5100\n",
       "1    B  sab   8250\n",
       "2    B  dom   9900"
      ]
     },
     "execution_count": 27,
     "metadata": {},
     "output_type": "execute_result"
    }
   ],
   "source": [
    "\n",
    "print(\"\\n--------------- TABELA B --------------------\\n\")\n",
    "\n",
    "lojaB = pd.DataFrame({\"loja\":[\"B\", \"B\", \"B\"],\n",
    "                      \"dia\": [\"sex\", \"sab\", \"dom\"],\n",
    "                      \"valor\":[5100, 8250, 9900]}\n",
    "\n",
    "                        )\n",
    "\n",
    "lojaB"
   ]
  },
  {
   "cell_type": "code",
   "execution_count": 31,
   "id": "8d8b5ef7",
   "metadata": {},
   "outputs": [
    {
     "name": "stdout",
     "output_type": "stream",
     "text": [
      "\n",
      "--------------- TABELA C --------------------\n",
      "\n"
     ]
    },
    {
     "data": {
      "text/html": [
       "<div>\n",
       "<style scoped>\n",
       "    .dataframe tbody tr th:only-of-type {\n",
       "        vertical-align: middle;\n",
       "    }\n",
       "\n",
       "    .dataframe tbody tr th {\n",
       "        vertical-align: top;\n",
       "    }\n",
       "\n",
       "    .dataframe thead th {\n",
       "        text-align: right;\n",
       "    }\n",
       "</style>\n",
       "<table border=\"1\" class=\"dataframe\">\n",
       "  <thead>\n",
       "    <tr style=\"text-align: right;\">\n",
       "      <th></th>\n",
       "      <th>loja</th>\n",
       "      <th>dia</th>\n",
       "      <th>valor</th>\n",
       "    </tr>\n",
       "  </thead>\n",
       "  <tbody>\n",
       "    <tr>\n",
       "      <th>0</th>\n",
       "      <td>C</td>\n",
       "      <td>sab</td>\n",
       "      <td>7500</td>\n",
       "    </tr>\n",
       "    <tr>\n",
       "      <th>1</th>\n",
       "      <td>C</td>\n",
       "      <td>dom</td>\n",
       "      <td>11800</td>\n",
       "    </tr>\n",
       "  </tbody>\n",
       "</table>\n",
       "</div>"
      ],
      "text/plain": [
       "  loja  dia  valor\n",
       "0    C  sab   7500\n",
       "1    C  dom  11800"
      ]
     },
     "execution_count": 31,
     "metadata": {},
     "output_type": "execute_result"
    }
   ],
   "source": [
    "\n",
    "print(\"\\n--------------- TABELA C --------------------\\n\")\n",
    "\n",
    "lojaC = pd.DataFrame({\"loja\":[\"C\", \"C\"],\n",
    "                 \"dia\": [\"sab\", \"dom\"],\n",
    "                 \"valor\":[7500, 11800]}\n",
    "\n",
    "                 )\n",
    "\n",
    "lojaC"
   ]
  },
  {
   "cell_type": "code",
   "execution_count": 32,
   "id": "4c30dac6",
   "metadata": {},
   "outputs": [
    {
     "data": {
      "text/html": [
       "<div>\n",
       "<style scoped>\n",
       "    .dataframe tbody tr th:only-of-type {\n",
       "        vertical-align: middle;\n",
       "    }\n",
       "\n",
       "    .dataframe tbody tr th {\n",
       "        vertical-align: top;\n",
       "    }\n",
       "\n",
       "    .dataframe thead th {\n",
       "        text-align: right;\n",
       "    }\n",
       "</style>\n",
       "<table border=\"1\" class=\"dataframe\">\n",
       "  <thead>\n",
       "    <tr style=\"text-align: right;\">\n",
       "      <th></th>\n",
       "      <th>loja</th>\n",
       "      <th>dia</th>\n",
       "      <th>valor</th>\n",
       "    </tr>\n",
       "  </thead>\n",
       "  <tbody>\n",
       "    <tr>\n",
       "      <th>0</th>\n",
       "      <td>A</td>\n",
       "      <td>sex</td>\n",
       "      <td>7500</td>\n",
       "    </tr>\n",
       "    <tr>\n",
       "      <th>1</th>\n",
       "      <td>A</td>\n",
       "      <td>sab</td>\n",
       "      <td>9500</td>\n",
       "    </tr>\n",
       "    <tr>\n",
       "      <th>2</th>\n",
       "      <td>A</td>\n",
       "      <td>dom</td>\n",
       "      <td>8200</td>\n",
       "    </tr>\n",
       "    <tr>\n",
       "      <th>3</th>\n",
       "      <td>B</td>\n",
       "      <td>sex</td>\n",
       "      <td>5100</td>\n",
       "    </tr>\n",
       "    <tr>\n",
       "      <th>4</th>\n",
       "      <td>B</td>\n",
       "      <td>sab</td>\n",
       "      <td>8250</td>\n",
       "    </tr>\n",
       "    <tr>\n",
       "      <th>5</th>\n",
       "      <td>B</td>\n",
       "      <td>dom</td>\n",
       "      <td>9900</td>\n",
       "    </tr>\n",
       "    <tr>\n",
       "      <th>6</th>\n",
       "      <td>C</td>\n",
       "      <td>sab</td>\n",
       "      <td>7500</td>\n",
       "    </tr>\n",
       "    <tr>\n",
       "      <th>7</th>\n",
       "      <td>C</td>\n",
       "      <td>dom</td>\n",
       "      <td>11800</td>\n",
       "    </tr>\n",
       "  </tbody>\n",
       "</table>\n",
       "</div>"
      ],
      "text/plain": [
       "  loja  dia  valor\n",
       "0    A  sex   7500\n",
       "1    A  sab   9500\n",
       "2    A  dom   8200\n",
       "3    B  sex   5100\n",
       "4    B  sab   8250\n",
       "5    B  dom   9900\n",
       "6    C  sab   7500\n",
       "7    C  dom  11800"
      ]
     },
     "execution_count": 32,
     "metadata": {},
     "output_type": "execute_result"
    }
   ],
   "source": [
    "loja3 = pd.concat([lojaA,lojaB,lojaC],ignore_index=True)\n",
    "\n",
    "\n",
    "loja3\n"
   ]
  },
  {
   "cell_type": "markdown",
   "id": "4dd35cc8",
   "metadata": {},
   "source": [
    "<h3 style=\"color:Blue;\"><center>2. Com base nos dataframes a seguir, que guardam informações de matriculas de\n",
    "alunos em dois cursos, um de SQL e outro de Python:</center></h3>\n",
    "\n"
   ]
  },
  {
   "cell_type": "code",
   "execution_count": 6,
   "id": "bd5cd3f6",
   "metadata": {},
   "outputs": [
    {
     "name": "stdout",
     "output_type": "stream",
     "text": [
      "\n",
      "---------------ALUNOS DISTINTOS--------------------\n"
     ]
    },
    {
     "data": {
      "text/html": [
       "<div>\n",
       "<style scoped>\n",
       "    .dataframe tbody tr th:only-of-type {\n",
       "        vertical-align: middle;\n",
       "    }\n",
       "\n",
       "    .dataframe tbody tr th {\n",
       "        vertical-align: top;\n",
       "    }\n",
       "\n",
       "    .dataframe thead th {\n",
       "        text-align: right;\n",
       "    }\n",
       "</style>\n",
       "<table border=\"1\" class=\"dataframe\">\n",
       "  <thead>\n",
       "    <tr style=\"text-align: right;\">\n",
       "      <th></th>\n",
       "      <th>email</th>\n",
       "    </tr>\n",
       "  </thead>\n",
       "  <tbody>\n",
       "    <tr>\n",
       "      <th>0</th>\n",
       "      <td>rakesh@xyz.com</td>\n",
       "    </tr>\n",
       "    <tr>\n",
       "      <th>1</th>\n",
       "      <td>ecg@acmecorpus.com</td>\n",
       "    </tr>\n",
       "    <tr>\n",
       "      <th>2</th>\n",
       "      <td>ana@xyz.com</td>\n",
       "    </tr>\n",
       "    <tr>\n",
       "      <th>3</th>\n",
       "      <td>jonas@acmecorpus.com</td>\n",
       "    </tr>\n",
       "  </tbody>\n",
       "</table>\n",
       "</div>"
      ],
      "text/plain": [
       "                  email\n",
       "0        rakesh@xyz.com\n",
       "1    ecg@acmecorpus.com\n",
       "2           ana@xyz.com\n",
       "3  jonas@acmecorpus.com"
      ]
     },
     "execution_count": 6,
     "metadata": {},
     "output_type": "execute_result"
    }
   ],
   "source": [
    "                    # A - Quais são os alunos distintos, considerando ambas as listas?\n",
    "    \n",
    "SQL = pd.DataFrame({\"email\":[\"rakesh@xyz.com\",\"ecg@acmecorpus.com\"]})\n",
    "\n",
    "PYTHON = pd.DataFrame({\"email\":[\"ana@xyz.com\", \"jonas@acmecorpus.com\",\"rakesh@xyz.com\"]})\n",
    "\n",
    "\n",
    "print(\"\\n---------------ALUNOS DISTINTOS--------------------\")\n",
    "    \n",
    "alunoS = pd.concat([SQL,PYTHON],ignore_index=True)    \n",
    "\n",
    "alunoSdistintos = alunoS.drop_duplicates()\n",
    "\n",
    "alunoSdistintos"
   ]
  },
  {
   "cell_type": "code",
   "execution_count": 13,
   "id": "95c6b76a",
   "metadata": {},
   "outputs": [
    {
     "name": "stdout",
     "output_type": "stream",
     "text": [
      "\n",
      "---------------ALUNOS QUE CURSAM PYTHON E SQL--------------------\n"
     ]
    },
    {
     "data": {
      "text/html": [
       "<div>\n",
       "<style scoped>\n",
       "    .dataframe tbody tr th:only-of-type {\n",
       "        vertical-align: middle;\n",
       "    }\n",
       "\n",
       "    .dataframe tbody tr th {\n",
       "        vertical-align: top;\n",
       "    }\n",
       "\n",
       "    .dataframe thead th {\n",
       "        text-align: right;\n",
       "    }\n",
       "</style>\n",
       "<table border=\"1\" class=\"dataframe\">\n",
       "  <thead>\n",
       "    <tr style=\"text-align: right;\">\n",
       "      <th></th>\n",
       "      <th>email</th>\n",
       "    </tr>\n",
       "  </thead>\n",
       "  <tbody>\n",
       "    <tr>\n",
       "      <th>0</th>\n",
       "      <td>rakesh@xyz.com</td>\n",
       "    </tr>\n",
       "  </tbody>\n",
       "</table>\n",
       "</div>"
      ],
      "text/plain": [
       "            email\n",
       "0  rakesh@xyz.com"
      ]
     },
     "execution_count": 13,
     "metadata": {},
     "output_type": "execute_result"
    }
   ],
   "source": [
    "                        # B - Quais são os alunos que fizeram ambos os cursos?\n",
    "    \n",
    "SQL = pd.DataFrame({\"email\":[\"rakesh@xyz.com\",\"ecg@acmecorpus.com\"]})\n",
    "\n",
    "PYTHON = pd.DataFrame({\"email\":[\"ana@xyz.com\", \"jonas@acmecorpus.com\",\"rakesh@xyz.com\"]})\n",
    "   \n",
    "print(\"\\n---------------ALUNOS QUE CURSAM PYTHON E SQL--------------------\")    \n",
    "\n",
    "SQL.merge(PYTHON)"
   ]
  },
  {
   "cell_type": "code",
   "execution_count": 19,
   "id": "d4a8f766",
   "metadata": {},
   "outputs": [
    {
     "name": "stdout",
     "output_type": "stream",
     "text": [
      "\n",
      "---------------ALUNOS QUE CURSAM PYTHON--------------------\n"
     ]
    },
    {
     "data": {
      "text/html": [
       "<div>\n",
       "<style scoped>\n",
       "    .dataframe tbody tr th:only-of-type {\n",
       "        vertical-align: middle;\n",
       "    }\n",
       "\n",
       "    .dataframe tbody tr th {\n",
       "        vertical-align: top;\n",
       "    }\n",
       "\n",
       "    .dataframe thead th {\n",
       "        text-align: right;\n",
       "    }\n",
       "</style>\n",
       "<table border=\"1\" class=\"dataframe\">\n",
       "  <thead>\n",
       "    <tr style=\"text-align: right;\">\n",
       "      <th></th>\n",
       "      <th>email</th>\n",
       "    </tr>\n",
       "  </thead>\n",
       "  <tbody>\n",
       "    <tr>\n",
       "      <th>0</th>\n",
       "      <td>ana@xyz.com</td>\n",
       "    </tr>\n",
       "    <tr>\n",
       "      <th>1</th>\n",
       "      <td>jonas@acmecorpus.com</td>\n",
       "    </tr>\n",
       "  </tbody>\n",
       "</table>\n",
       "</div>"
      ],
      "text/plain": [
       "                  email\n",
       "0           ana@xyz.com\n",
       "1  jonas@acmecorpus.com"
      ]
     },
     "execution_count": 19,
     "metadata": {},
     "output_type": "execute_result"
    }
   ],
   "source": [
    "                    # C -  Quais os alunos que realizaram o curso de PYTHON, mas não o de SQL?\n",
    "\n",
    "\n",
    "SQL = pd.DataFrame({\"email\":[\"rakesh@xyz.com\",\"ecg@acmecorpus.com\"]})\n",
    "\n",
    "PYTHON = pd.DataFrame({\"email\":[\"ana@xyz.com\", \"jonas@acmecorpus.com\",\"rakesh@xyz.com\"]})\n",
    "\n",
    "   \n",
    "print(\"\\n---------------ALUNOS QUE CURSAM PYTHON--------------------\")   \n",
    "\n",
    "python = PYTHON[PYTHON.email.isin(SQL.email)== False]\n",
    "\n",
    "python\n"
   ]
  },
  {
   "cell_type": "code",
   "execution_count": 20,
   "id": "09283942",
   "metadata": {},
   "outputs": [
    {
     "name": "stdout",
     "output_type": "stream",
     "text": [
      "\n",
      "---------------ALUNOS QUE CURSAM SQL--------------------\n"
     ]
    },
    {
     "data": {
      "text/html": [
       "<div>\n",
       "<style scoped>\n",
       "    .dataframe tbody tr th:only-of-type {\n",
       "        vertical-align: middle;\n",
       "    }\n",
       "\n",
       "    .dataframe tbody tr th {\n",
       "        vertical-align: top;\n",
       "    }\n",
       "\n",
       "    .dataframe thead th {\n",
       "        text-align: right;\n",
       "    }\n",
       "</style>\n",
       "<table border=\"1\" class=\"dataframe\">\n",
       "  <thead>\n",
       "    <tr style=\"text-align: right;\">\n",
       "      <th></th>\n",
       "      <th>email</th>\n",
       "    </tr>\n",
       "  </thead>\n",
       "  <tbody>\n",
       "    <tr>\n",
       "      <th>1</th>\n",
       "      <td>ecg@acmecorpus.com</td>\n",
       "    </tr>\n",
       "  </tbody>\n",
       "</table>\n",
       "</div>"
      ],
      "text/plain": [
       "                email\n",
       "1  ecg@acmecorpus.com"
      ]
     },
     "execution_count": 20,
     "metadata": {},
     "output_type": "execute_result"
    }
   ],
   "source": [
    "                    # C -  Quais os alunos que realizaram o curso de SQL, mas não o de PYTHON?\n",
    "\n",
    "print(\"\\n---------------ALUNOS QUE CURSAM SQL--------------------\")   \n",
    "\n",
    "sql = SQL[SQL.email.isin(PYTHON.email)== False]\n",
    "\n",
    "sql\n"
   ]
  },
  {
   "cell_type": "markdown",
   "id": "ebe4972e",
   "metadata": {},
   "source": [
    "<h3 style=\"color:Blue;\"><center>3. Considere os dois dataframes a seguir, referentes aos dados sobre os departamentos e os funcionários de uma empresa.</center></h3>\n",
    "\n"
   ]
  },
  {
   "cell_type": "code",
   "execution_count": 37,
   "id": "d73ab78d",
   "metadata": {},
   "outputs": [
    {
     "data": {
      "text/html": [
       "<div>\n",
       "<style scoped>\n",
       "    .dataframe tbody tr th:only-of-type {\n",
       "        vertical-align: middle;\n",
       "    }\n",
       "\n",
       "    .dataframe tbody tr th {\n",
       "        vertical-align: top;\n",
       "    }\n",
       "\n",
       "    .dataframe thead th {\n",
       "        text-align: right;\n",
       "    }\n",
       "</style>\n",
       "<table border=\"1\" class=\"dataframe\">\n",
       "  <thead>\n",
       "    <tr style=\"text-align: right;\">\n",
       "      <th></th>\n",
       "      <th>num</th>\n",
       "      <th>nome</th>\n",
       "      <th>salario</th>\n",
       "      <th>idDepto</th>\n",
       "      <th>id</th>\n",
       "      <th>nomDepto</th>\n",
       "      <th>local</th>\n",
       "    </tr>\n",
       "  </thead>\n",
       "  <tbody>\n",
       "    <tr>\n",
       "      <th>0</th>\n",
       "      <td>3199</td>\n",
       "      <td>Ana</td>\n",
       "      <td>1600</td>\n",
       "      <td>D2</td>\n",
       "      <td>D2</td>\n",
       "      <td>RH</td>\n",
       "      <td>RJ</td>\n",
       "    </tr>\n",
       "    <tr>\n",
       "      <th>1</th>\n",
       "      <td>3788</td>\n",
       "      <td>Marina</td>\n",
       "      <td>5000</td>\n",
       "      <td>D2</td>\n",
       "      <td>D2</td>\n",
       "      <td>RH</td>\n",
       "      <td>RJ</td>\n",
       "    </tr>\n",
       "    <tr>\n",
       "      <th>2</th>\n",
       "      <td>3269</td>\n",
       "      <td>David</td>\n",
       "      <td>2975</td>\n",
       "      <td>D3</td>\n",
       "      <td>D3</td>\n",
       "      <td>TI</td>\n",
       "      <td>RJ</td>\n",
       "    </tr>\n",
       "    <tr>\n",
       "      <th>3</th>\n",
       "      <td>3844</td>\n",
       "      <td>Luís</td>\n",
       "      <td>3000</td>\n",
       "      <td>D4</td>\n",
       "      <td>D4</td>\n",
       "      <td>Vendas</td>\n",
       "      <td>SP</td>\n",
       "    </tr>\n",
       "  </tbody>\n",
       "</table>\n",
       "</div>"
      ],
      "text/plain": [
       "    num    nome  salario idDepto  id nomDepto local\n",
       "0  3199     Ana     1600      D2  D2       RH    RJ\n",
       "1  3788  Marina     5000      D2  D2       RH    RJ\n",
       "2  3269   David     2975      D3  D3       TI    RJ\n",
       "3  3844    Luís     3000      D4  D4   Vendas    SP"
      ]
     },
     "execution_count": 37,
     "metadata": {},
     "output_type": "execute_result"
    }
   ],
   "source": [
    "dic_emp = {\"id\":[\"D1\",\"D2\",\"D3\",\"D4\"],\n",
    "           \"nomDepto\": [\"Compras\",\"RH\",\"TI\",\"Vendas\"],\n",
    "           \"local\":[\"SP\",\"RJ\",\"RJ\",\"SP\"]}\n",
    "\n",
    "\n",
    "dic_func = {\"num\":[3199,3269,3555,3788,3844],\n",
    "            \"nome\": [\"Ana\",\"David\",\"José\",\"Marina\",\"Luís\"],\n",
    "            \"salario\":[1600,2975,1500,5000,3000],\n",
    "            \"idDepto\": [\"D2\",\"D3\",None,\"D2\",\"D4\"]}\n",
    "\n",
    "            \n",
    "lista_funcionarios = pd.DataFrame(dic_func)\n",
    "dados_empresa = pd.DataFrame(dic_emp)\n",
    "\n",
    "empresa = pd.merge(lista_funcionarios,dados_empresa, left_on = \"idDepto\",right_on = \"id\")\n",
    "\n",
    "\n",
    "empresa\n"
   ]
  },
  {
   "cell_type": "code",
   "execution_count": null,
   "id": "403428d8",
   "metadata": {},
   "outputs": [],
   "source": []
  },
  {
   "cell_type": "code",
   "execution_count": null,
   "id": "19e66d7b",
   "metadata": {},
   "outputs": [],
   "source": []
  }
 ],
 "metadata": {
  "kernelspec": {
   "display_name": "Python 3",
   "language": "python",
   "name": "python3"
  },
  "language_info": {
   "codemirror_mode": {
    "name": "ipython",
    "version": 3
   },
   "file_extension": ".py",
   "mimetype": "text/x-python",
   "name": "python",
   "nbconvert_exporter": "python",
   "pygments_lexer": "ipython3",
   "version": "3.8.8"
  }
 },
 "nbformat": 4,
 "nbformat_minor": 5
}
