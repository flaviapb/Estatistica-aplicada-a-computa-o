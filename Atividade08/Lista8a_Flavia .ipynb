{
 "cells": [
  {
   "cell_type": "markdown",
   "id": "3d0313a5",
   "metadata": {},
   "source": [
    "<img src=\"https://github.com/flaviapb/Estatistica-aplicada-a-computa-o/blob/main/Atividade08/cabe%C3%A7alho08-lista8.png?raw=true\"></img>"
   ]
  },
  {
   "cell_type": "code",
   "execution_count": 1,
   "id": "1eedcc32",
   "metadata": {},
   "outputs": [],
   "source": [
    "import pandas as pd\n",
    "import numpy as np"
   ]
  },
  {
   "cell_type": "markdown",
   "id": "fcfee0c8",
   "metadata": {},
   "source": [
    "<p><center><strong>1. Determine se os dados são qualitativos ou quantitativos. Explique seu raciocínio.</strong></center><p>"
   ]
  },
  {
   "cell_type": "markdown",
   "id": "173a1b3b",
   "metadata": {},
   "source": [
    "<p><strong><center>(a) Alturas de balões de ar quente:</center></strong><p>\n"
   ]
  },
  {
   "cell_type": "code",
   "execution_count": 2,
   "id": "1d8d8207",
   "metadata": {},
   "outputs": [
    {
     "name": "stdout",
     "output_type": "stream",
     "text": [
      "EXPLICAÇÃO: Visto que a altura é avaliada em números, e seu resultado é encontrado por um tipo de medição.\n"
     ]
    },
    {
     "data": {
      "text/html": [
       "<div>\n",
       "<style scoped>\n",
       "    .dataframe tbody tr th:only-of-type {\n",
       "        vertical-align: middle;\n",
       "    }\n",
       "\n",
       "    .dataframe tbody tr th {\n",
       "        vertical-align: top;\n",
       "    }\n",
       "\n",
       "    .dataframe thead th {\n",
       "        text-align: right;\n",
       "    }\n",
       "</style>\n",
       "<table border=\"1\" class=\"dataframe\">\n",
       "  <thead>\n",
       "    <tr style=\"text-align: right;\">\n",
       "      <th></th>\n",
       "      <th>ALTURAS DE BALÕES DE AR QUENTE</th>\n",
       "    </tr>\n",
       "  </thead>\n",
       "  <tbody>\n",
       "    <tr>\n",
       "      <th>TIPO</th>\n",
       "      <td>QUANTITATIVA</td>\n",
       "    </tr>\n",
       "  </tbody>\n",
       "</table>\n",
       "</div>"
      ],
      "text/plain": [
       "     ALTURAS DE BALÕES DE AR QUENTE\n",
       "TIPO                   QUANTITATIVA"
      ]
     },
     "execution_count": 2,
     "metadata": {},
     "output_type": "execute_result"
    }
   ],
   "source": [
    "\n",
    "print(\"EXPLICAÇÃO: Visto que a altura é avaliada em números, e seu resultado é encontrado por um tipo de medição.\")\n",
    "\n",
    "tipo = pd.DataFrame({\"ALTURAS DE BALÕES DE AR QUENTE\":[\"QUANTITATIVA\"]})\n",
    "tipo.index = [\"TIPO\"]\n",
    "tipo"
   ]
  },
  {
   "cell_type": "markdown",
   "id": "b3205a9f",
   "metadata": {},
   "source": [
    "<p><strong><center>(b) Capacidades de carga de caminhonetes:</center></strong><p>\n"
   ]
  },
  {
   "cell_type": "code",
   "execution_count": 3,
   "id": "f951db35",
   "metadata": {},
   "outputs": [
    {
     "name": "stdout",
     "output_type": "stream",
     "text": [
      "Como foi visto na letra a, essa capacidade de carga estão nas variáveis contínuas, e podem ser medidas por meio de instrumentos, por exemplo.\n"
     ]
    },
    {
     "data": {
      "text/html": [
       "<div>\n",
       "<style scoped>\n",
       "    .dataframe tbody tr th:only-of-type {\n",
       "        vertical-align: middle;\n",
       "    }\n",
       "\n",
       "    .dataframe tbody tr th {\n",
       "        vertical-align: top;\n",
       "    }\n",
       "\n",
       "    .dataframe thead th {\n",
       "        text-align: right;\n",
       "    }\n",
       "</style>\n",
       "<table border=\"1\" class=\"dataframe\">\n",
       "  <thead>\n",
       "    <tr style=\"text-align: right;\">\n",
       "      <th></th>\n",
       "      <th>Capacidades de carga de caminhonetes</th>\n",
       "    </tr>\n",
       "  </thead>\n",
       "  <tbody>\n",
       "    <tr>\n",
       "      <th>TIPO</th>\n",
       "      <td>QUANTITATIVA</td>\n",
       "    </tr>\n",
       "  </tbody>\n",
       "</table>\n",
       "</div>"
      ],
      "text/plain": [
       "     Capacidades de carga de caminhonetes\n",
       "TIPO                         QUANTITATIVA"
      ]
     },
     "execution_count": 3,
     "metadata": {},
     "output_type": "execute_result"
    }
   ],
   "source": [
    "print(\"Como foi visto na letra a, essa capacidade de carga estão nas variáveis contínuas, e podem ser medidas por meio de instrumentos, por exemplo.\")\n",
    "tipo = pd.DataFrame({\"Capacidades de carga de caminhonetes\":[\"QUANTITATIVA\"]})\n",
    "tipo.index = [\"TIPO\"]\n",
    "tipo"
   ]
  },
  {
   "cell_type": "markdown",
   "id": "fc367af9",
   "metadata": {},
   "source": [
    "<p><strong><center>(c) Cores dos olhos de modelos:</center></strong><p>"
   ]
  },
  {
   "cell_type": "code",
   "execution_count": 4,
   "id": "87447c25",
   "metadata": {},
   "outputs": [
    {
     "name": "stdout",
     "output_type": "stream",
     "text": [
      "Visto que não possue valor quantitativo, podemos classificar como variáveis nominais, ou seja, não existe ordenação dentre essa categoria.\n"
     ]
    },
    {
     "data": {
      "text/html": [
       "<div>\n",
       "<style scoped>\n",
       "    .dataframe tbody tr th:only-of-type {\n",
       "        vertical-align: middle;\n",
       "    }\n",
       "\n",
       "    .dataframe tbody tr th {\n",
       "        vertical-align: top;\n",
       "    }\n",
       "\n",
       "    .dataframe thead th {\n",
       "        text-align: right;\n",
       "    }\n",
       "</style>\n",
       "<table border=\"1\" class=\"dataframe\">\n",
       "  <thead>\n",
       "    <tr style=\"text-align: right;\">\n",
       "      <th></th>\n",
       "      <th>Cores dos olhos de modelos</th>\n",
       "    </tr>\n",
       "  </thead>\n",
       "  <tbody>\n",
       "    <tr>\n",
       "      <th>TIPO</th>\n",
       "      <td>QUALITATIVAS</td>\n",
       "    </tr>\n",
       "  </tbody>\n",
       "</table>\n",
       "</div>"
      ],
      "text/plain": [
       "     Cores dos olhos de modelos\n",
       "TIPO               QUALITATIVAS"
      ]
     },
     "execution_count": 4,
     "metadata": {},
     "output_type": "execute_result"
    }
   ],
   "source": [
    "print(\"Visto que não possue valor quantitativo, podemos classificar como variáveis nominais, ou seja, não existe ordenação dentre essa categoria.\")\n",
    "tipo = pd.DataFrame({\"Cores dos olhos de modelos\":[\"QUALITATIVAS\"]})\n",
    "tipo.index = [\"TIPO\"]\n",
    "tipo"
   ]
  },
  {
   "cell_type": "markdown",
   "id": "75effe53",
   "metadata": {},
   "source": [
    "<p><strong><center>(d) Números de identidade de estudantes:</center></strong><p>"
   ]
  },
  {
   "cell_type": "code",
   "execution_count": 5,
   "id": "75ab44e9",
   "metadata": {},
   "outputs": [
    {
     "name": "stdout",
     "output_type": "stream",
     "text": [
      "já que está representando uma classificação dos indivíduos.\n"
     ]
    },
    {
     "data": {
      "text/html": [
       "<div>\n",
       "<style scoped>\n",
       "    .dataframe tbody tr th:only-of-type {\n",
       "        vertical-align: middle;\n",
       "    }\n",
       "\n",
       "    .dataframe tbody tr th {\n",
       "        vertical-align: top;\n",
       "    }\n",
       "\n",
       "    .dataframe thead th {\n",
       "        text-align: right;\n",
       "    }\n",
       "</style>\n",
       "<table border=\"1\" class=\"dataframe\">\n",
       "  <thead>\n",
       "    <tr style=\"text-align: right;\">\n",
       "      <th></th>\n",
       "      <th>Números de identidade de estudantes</th>\n",
       "    </tr>\n",
       "  </thead>\n",
       "  <tbody>\n",
       "    <tr>\n",
       "      <th>TIPO</th>\n",
       "      <td>QUALITATIVAS</td>\n",
       "    </tr>\n",
       "  </tbody>\n",
       "</table>\n",
       "</div>"
      ],
      "text/plain": [
       "     Números de identidade de estudantes\n",
       "TIPO                        QUALITATIVAS"
      ]
     },
     "execution_count": 5,
     "metadata": {},
     "output_type": "execute_result"
    }
   ],
   "source": [
    "print(\"já que está representando uma classificação dos indivíduos.\")\n",
    "tipo = pd.DataFrame({\"Números de identidade de estudantes\":[\"QUALITATIVAS\"]})\n",
    "tipo.index = [\"TIPO\"]\n",
    "tipo"
   ]
  },
  {
   "cell_type": "markdown",
   "id": "22ca5487",
   "metadata": {},
   "source": [
    "<p><strong><center>(d) Respostas em uma pesquisa de opinião: </center></strong><p>"
   ]
  },
  {
   "cell_type": "code",
   "execution_count": 6,
   "id": "5c5ea9ac",
   "metadata": {},
   "outputs": [
    {
     "name": "stdout",
     "output_type": "stream",
     "text": [
      "já que são atribuições/qualidade feito por cada pessoa, se preocupando apenas com a categoria de cada variável.\n"
     ]
    },
    {
     "data": {
      "text/html": [
       "<div>\n",
       "<style scoped>\n",
       "    .dataframe tbody tr th:only-of-type {\n",
       "        vertical-align: middle;\n",
       "    }\n",
       "\n",
       "    .dataframe tbody tr th {\n",
       "        vertical-align: top;\n",
       "    }\n",
       "\n",
       "    .dataframe thead th {\n",
       "        text-align: right;\n",
       "    }\n",
       "</style>\n",
       "<table border=\"1\" class=\"dataframe\">\n",
       "  <thead>\n",
       "    <tr style=\"text-align: right;\">\n",
       "      <th></th>\n",
       "      <th>Respostas em uma pesquisa de opinião</th>\n",
       "    </tr>\n",
       "  </thead>\n",
       "  <tbody>\n",
       "    <tr>\n",
       "      <th>TIPO</th>\n",
       "      <td>QUALITATIVAS</td>\n",
       "    </tr>\n",
       "  </tbody>\n",
       "</table>\n",
       "</div>"
      ],
      "text/plain": [
       "     Respostas em uma pesquisa de opinião\n",
       "TIPO                         QUALITATIVAS"
      ]
     },
     "execution_count": 6,
     "metadata": {},
     "output_type": "execute_result"
    }
   ],
   "source": [
    "print(\"já que são atribuições/qualidade feito por cada pessoa, se preocupando apenas com a categoria de cada variável.\")\n",
    "tipo = pd.DataFrame({\"Respostas em uma pesquisa de opinião\":[\"QUALITATIVAS\"]})\n",
    "tipo.index = [\"TIPO\"]\n",
    "tipo"
   ]
  },
  {
   "cell_type": "markdown",
   "id": "424f7494",
   "metadata": {},
   "source": [
    "<p><strong><center>2. Na tabela abaixo temos informações sobre o sexo, a matéria predileta (Português, Matemática, História, Geografia ou Ciências) no 2 o grau e a nota (número de questões certas) em\n",
    "um teste de múltipla escolha com 10 questões de matemática, ministrado no primeiro dia\n",
    "de aula dos calouros de Administração de uma universidade (dados fictícios).</center></strong><p>"
   ]
  },
  {
   "cell_type": "markdown",
   "id": "03a2b74d",
   "metadata": {},
   "source": [
    "<p><strong><center>(a) Classifique as variáveis envolvidas;</center></strong><p>"
   ]
  },
  {
   "cell_type": "code",
   "execution_count": 7,
   "id": "aff9e659",
   "metadata": {},
   "outputs": [
    {
     "data": {
      "text/html": [
       "<div>\n",
       "<style scoped>\n",
       "    .dataframe tbody tr th:only-of-type {\n",
       "        vertical-align: middle;\n",
       "    }\n",
       "\n",
       "    .dataframe tbody tr th {\n",
       "        vertical-align: top;\n",
       "    }\n",
       "\n",
       "    .dataframe thead th {\n",
       "        text-align: right;\n",
       "    }\n",
       "</style>\n",
       "<table border=\"1\" class=\"dataframe\">\n",
       "  <thead>\n",
       "    <tr style=\"text-align: right;\">\n",
       "      <th></th>\n",
       "      <th>SEXO</th>\n",
       "      <th>PREDILETA</th>\n",
       "      <th>NOTA</th>\n",
       "    </tr>\n",
       "  </thead>\n",
       "  <tbody>\n",
       "    <tr>\n",
       "      <th>TIPO</th>\n",
       "      <td>QUALITATIVA</td>\n",
       "      <td>QUALITATIVA</td>\n",
       "      <td>QUALITATIVA</td>\n",
       "    </tr>\n",
       "  </tbody>\n",
       "</table>\n",
       "</div>"
      ],
      "text/plain": [
       "             SEXO    PREDILETA         NOTA\n",
       "TIPO  QUALITATIVA  QUALITATIVA  QUALITATIVA"
      ]
     },
     "execution_count": 7,
     "metadata": {},
     "output_type": "execute_result"
    }
   ],
   "source": [
    "dados = pd.DataFrame({\"SEXO\":[\"QUALITATIVA\"],\"PREDILETA\":[\"QUALITATIVA\"],\"NOTA\":[\"QUALITATIVA\"]})\n",
    "dados.index = [\"TIPO\"]\n",
    "dados"
   ]
  },
  {
   "cell_type": "markdown",
   "id": "5c192aa1",
   "metadata": {},
   "source": [
    "<p><strong><center>(b) Construa a tabela de freqüências apropriada para cada uma das variáveis qualitativas.\n",
    "</center></strong></p>"
   ]
  },
  {
   "cell_type": "code",
   "execution_count": 8,
   "id": "a2bc4697",
   "metadata": {},
   "outputs": [
    {
     "name": "stdout",
     "output_type": "stream",
     "text": [
      "\n",
      "Calouros de Administração Avaliados:\n"
     ]
    },
    {
     "data": {
      "text/html": [
       "<div>\n",
       "<style scoped>\n",
       "    .dataframe tbody tr th:only-of-type {\n",
       "        vertical-align: middle;\n",
       "    }\n",
       "\n",
       "    .dataframe tbody tr th {\n",
       "        vertical-align: top;\n",
       "    }\n",
       "\n",
       "    .dataframe thead th {\n",
       "        text-align: right;\n",
       "    }\n",
       "</style>\n",
       "<table border=\"1\" class=\"dataframe\">\n",
       "  <thead>\n",
       "    <tr style=\"text-align: right;\">\n",
       "      <th></th>\n",
       "      <th>Quantidade</th>\n",
       "    </tr>\n",
       "  </thead>\n",
       "  <tbody>\n",
       "    <tr>\n",
       "      <th>FEMININOS</th>\n",
       "      <td>21</td>\n",
       "    </tr>\n",
       "    <tr>\n",
       "      <th>MASCULINOS</th>\n",
       "      <td>21</td>\n",
       "    </tr>\n",
       "    <tr>\n",
       "      <th>TOTAL</th>\n",
       "      <td>42</td>\n",
       "    </tr>\n",
       "  </tbody>\n",
       "</table>\n",
       "</div>"
      ],
      "text/plain": [
       "            Quantidade\n",
       "FEMININOS           21\n",
       "MASCULINOS          21\n",
       "TOTAL               42"
      ]
     },
     "execution_count": 8,
     "metadata": {},
     "output_type": "execute_result"
    }
   ],
   "source": [
    "dadosgenero = pd.DataFrame({\"SEXO\":[\"F\",\"M\",\"F\",\"F\",\"M\",\"M\",\"F\",\"F\",\"F\",\"M\",\"F\",\"M\",\"M\",\"M\",\"M\",\"M\",\"F\",\"F\",\"M\",\"M\",\"F\",\"F\",\"M\",\"M\",\"F\",\"F\",\n",
    "                 \"M\",\"M\",\"F\",\"F\",\"F\",\"M\",\"M\",\"F\",\"M\",\"M\",\"F\",\"M\",\"F\",\"F\",\"F\",\"M\"]}).value_counts().to_frame()\n",
    "\n",
    "total = pd.concat([dadosgenero,dadosgenero.sum().to_frame()])\n",
    "print(\"\\nCalouros de Administração Avaliados:\")\n",
    "total.index=[\"FEMININOS\",\"MASCULINOS\",\"TOTAL\"]\n",
    "total.columns=[\"Quantidade\"]\n",
    "total"
   ]
  },
  {
   "cell_type": "code",
   "execution_count": 9,
   "id": "beb7211e",
   "metadata": {},
   "outputs": [
    {
     "data": {
      "text/html": [
       "<div>\n",
       "<style scoped>\n",
       "    .dataframe tbody tr th:only-of-type {\n",
       "        vertical-align: middle;\n",
       "    }\n",
       "\n",
       "    .dataframe tbody tr th {\n",
       "        vertical-align: top;\n",
       "    }\n",
       "\n",
       "    .dataframe thead th {\n",
       "        text-align: right;\n",
       "    }\n",
       "</style>\n",
       "<table border=\"1\" class=\"dataframe\">\n",
       "  <thead>\n",
       "    <tr style=\"text-align: right;\">\n",
       "      <th></th>\n",
       "      <th>FREQUENCIA ABSOLUTA</th>\n",
       "      <th>FREQUENCIA RELATIVA</th>\n",
       "    </tr>\n",
       "  </thead>\n",
       "  <tbody>\n",
       "    <tr>\n",
       "      <th>FEMININOS</th>\n",
       "      <td>21</td>\n",
       "      <td>0.5</td>\n",
       "    </tr>\n",
       "    <tr>\n",
       "      <th>MASCULINOS</th>\n",
       "      <td>21</td>\n",
       "      <td>0.5</td>\n",
       "    </tr>\n",
       "    <tr>\n",
       "      <th>TOTAL</th>\n",
       "      <td>42</td>\n",
       "      <td>1.0</td>\n",
       "    </tr>\n",
       "  </tbody>\n",
       "</table>\n",
       "</div>"
      ],
      "text/plain": [
       "            FREQUENCIA ABSOLUTA  FREQUENCIA RELATIVA\n",
       "FEMININOS                    21                  0.5\n",
       "MASCULINOS                   21                  0.5\n",
       "TOTAL                        42                  1.0"
      ]
     },
     "execution_count": 9,
     "metadata": {},
     "output_type": "execute_result"
    }
   ],
   "source": [
    "#Os dados usados aqui, foram encontrados na célula acima.\n",
    "\n",
    "dadosgenero = pd.DataFrame({\"FREQUENCIA ABSOLUTA\":[21,21,42],\n",
    "                            \"FREQUENCIA RELATIVA\":[21/42,21/42,42/42]})\n",
    "dadosgenero.index=[\"FEMININOS\",\"MASCULINOS\",\"TOTAL\"]\n",
    "dadosgenero.columns=[\"FREQUENCIA ABSOLUTA\",\"FREQUENCIA RELATIVA\"]\n",
    "dadosgenero"
   ]
  },
  {
   "cell_type": "code",
   "execution_count": 10,
   "id": "e30bff33",
   "metadata": {},
   "outputs": [
    {
     "name": "stdout",
     "output_type": "stream",
     "text": [
      "Calouros de Administração Avaliados:\n"
     ]
    },
    {
     "data": {
      "text/html": [
       "<div>\n",
       "<style scoped>\n",
       "    .dataframe tbody tr th:only-of-type {\n",
       "        vertical-align: middle;\n",
       "    }\n",
       "\n",
       "    .dataframe tbody tr th {\n",
       "        vertical-align: top;\n",
       "    }\n",
       "\n",
       "    .dataframe thead th {\n",
       "        text-align: right;\n",
       "    }\n",
       "</style>\n",
       "<table border=\"1\" class=\"dataframe\">\n",
       "  <thead>\n",
       "    <tr style=\"text-align: right;\">\n",
       "      <th></th>\n",
       "      <th>Quantidade</th>\n",
       "    </tr>\n",
       "  </thead>\n",
       "  <tbody>\n",
       "    <tr>\n",
       "      <th>MATEMÁTICA</th>\n",
       "      <td>14</td>\n",
       "    </tr>\n",
       "    <tr>\n",
       "      <th>PORTUGUÊS</th>\n",
       "      <td>10</td>\n",
       "    </tr>\n",
       "    <tr>\n",
       "      <th>GEOGRAFIA</th>\n",
       "      <td>8</td>\n",
       "    </tr>\n",
       "    <tr>\n",
       "      <th>HISTÓRIA</th>\n",
       "      <td>7</td>\n",
       "    </tr>\n",
       "    <tr>\n",
       "      <th>CIÊNCIAS</th>\n",
       "      <td>3</td>\n",
       "    </tr>\n",
       "    <tr>\n",
       "      <th>TOTAL</th>\n",
       "      <td>42</td>\n",
       "    </tr>\n",
       "  </tbody>\n",
       "</table>\n",
       "</div>"
      ],
      "text/plain": [
       "            Quantidade\n",
       "MATEMÁTICA          14\n",
       "PORTUGUÊS           10\n",
       "GEOGRAFIA            8\n",
       "HISTÓRIA             7\n",
       "CIÊNCIAS             3\n",
       "TOTAL               42"
      ]
     },
     "execution_count": 10,
     "metadata": {},
     "output_type": "execute_result"
    }
   ],
   "source": [
    "dadospredileta = pd.DataFrame({\"PREDILETA\":[\"H\",\"M\",\"P\",\"H\",\"C\",\"H\",\"M\",\"P\",\"H\",\"C\",\"P\",\"M\",\"G\",\"G\",\"M\",\"M\",\"P\",\"G\",\"G\",\"P\",\"M\",\"G\",\"H\",\"M\",\"P\",\n",
    "                                       \"G\",\"C\",\"H\",\"M\",\"P\",\"M\",\"G\",\"H\",\"M\",\"P\",\"G\",\"M\",\"P\",\"M\",\"M\",\"P\",\"M\"]}).value_counts().to_frame()\n",
    "print(\"Calouros de Administração Avaliados:\")\n",
    "total = pd.concat([dadospredileta ,dadospredileta.sum().to_frame()])\n",
    "total.index=[\"MATEMÁTICA\",\"PORTUGUÊS\",\"GEOGRAFIA\",\"HISTÓRIA\",\"CIÊNCIAS\",\"TOTAL\"]\n",
    "total.columns=[\"Quantidade\"]\n",
    "total"
   ]
  },
  {
   "cell_type": "code",
   "execution_count": 11,
   "id": "7ec5e88a",
   "metadata": {},
   "outputs": [
    {
     "data": {
      "text/html": [
       "<div>\n",
       "<style scoped>\n",
       "    .dataframe tbody tr th:only-of-type {\n",
       "        vertical-align: middle;\n",
       "    }\n",
       "\n",
       "    .dataframe tbody tr th {\n",
       "        vertical-align: top;\n",
       "    }\n",
       "\n",
       "    .dataframe thead th {\n",
       "        text-align: right;\n",
       "    }\n",
       "</style>\n",
       "<table border=\"1\" class=\"dataframe\">\n",
       "  <thead>\n",
       "    <tr style=\"text-align: right;\">\n",
       "      <th></th>\n",
       "      <th>FREQUENCIA ABSOLUTA</th>\n",
       "      <th>FREQUENCIA RELATIVA</th>\n",
       "    </tr>\n",
       "  </thead>\n",
       "  <tbody>\n",
       "    <tr>\n",
       "      <th>MATEMÁTICA</th>\n",
       "      <td>14</td>\n",
       "      <td>0.33</td>\n",
       "    </tr>\n",
       "    <tr>\n",
       "      <th>PORTUGUÊS</th>\n",
       "      <td>10</td>\n",
       "      <td>0.24</td>\n",
       "    </tr>\n",
       "    <tr>\n",
       "      <th>GEOGRAFIA</th>\n",
       "      <td>8</td>\n",
       "      <td>0.19</td>\n",
       "    </tr>\n",
       "    <tr>\n",
       "      <th>HISTÓRIA</th>\n",
       "      <td>7</td>\n",
       "      <td>0.17</td>\n",
       "    </tr>\n",
       "    <tr>\n",
       "      <th>CIÊNCIAS</th>\n",
       "      <td>3</td>\n",
       "      <td>0.07</td>\n",
       "    </tr>\n",
       "    <tr>\n",
       "      <th>TOTAL</th>\n",
       "      <td>42</td>\n",
       "      <td>1.00</td>\n",
       "    </tr>\n",
       "  </tbody>\n",
       "</table>\n",
       "</div>"
      ],
      "text/plain": [
       "            FREQUENCIA ABSOLUTA FREQUENCIA RELATIVA\n",
       "MATEMÁTICA                   14                0.33\n",
       "PORTUGUÊS                    10                0.24\n",
       "GEOGRAFIA                     8                0.19\n",
       "HISTÓRIA                      7                0.17\n",
       "CIÊNCIAS                      3                0.07\n",
       "TOTAL                        42                1.00"
      ]
     },
     "execution_count": 11,
     "metadata": {},
     "output_type": "execute_result"
    }
   ],
   "source": [
    "#Os dados usados aqui, foram encontrados na célula acima.\n",
    "\n",
    "dadospredileta= pd.DataFrame({\"FREQUENCIA ABSOLUTA\":[14,10,8,7,3,42],\n",
    "                                \"FREQUENCIA RELATIVA\":[\"{:.2f}\".format(14/42),\"{:.2f}\".format(10/42),\"{:.2f}\".format(8/42),\n",
    "                                                   \"{:.2f}\".format(7/42),\"{:.2f}\".format(3/42),\"{:.2f}\".format(42/42)]})\n",
    "dadospredileta.index=[\"MATEMÁTICA\",\"PORTUGUÊS\",\"GEOGRAFIA\",\"HISTÓRIA\",\"CIÊNCIAS\",\"TOTAL\"]\n",
    "dadospredileta.columns=[\"FREQUENCIA ABSOLUTA\",\"FREQUENCIA RELATIVA\"]\n",
    "dadospredileta"
   ]
  },
  {
   "cell_type": "code",
   "execution_count": 12,
   "id": "a8c058b6",
   "metadata": {
    "scrolled": true
   },
   "outputs": [
    {
     "name": "stdout",
     "output_type": "stream",
     "text": [
      "Calouros de Administração Avaliados:\n"
     ]
    },
    {
     "data": {
      "text/html": [
       "<div>\n",
       "<style scoped>\n",
       "    .dataframe tbody tr th:only-of-type {\n",
       "        vertical-align: middle;\n",
       "    }\n",
       "\n",
       "    .dataframe tbody tr th {\n",
       "        vertical-align: top;\n",
       "    }\n",
       "\n",
       "    .dataframe thead th {\n",
       "        text-align: right;\n",
       "    }\n",
       "</style>\n",
       "<table border=\"1\" class=\"dataframe\">\n",
       "  <thead>\n",
       "    <tr style=\"text-align: right;\">\n",
       "      <th></th>\n",
       "      <th>Quantidade</th>\n",
       "    </tr>\n",
       "  </thead>\n",
       "  <tbody>\n",
       "    <tr>\n",
       "      <th>NOTA-1</th>\n",
       "      <td>11</td>\n",
       "    </tr>\n",
       "    <tr>\n",
       "      <th>NOTA-2</th>\n",
       "      <td>8</td>\n",
       "    </tr>\n",
       "    <tr>\n",
       "      <th>NOTA-3</th>\n",
       "      <td>7</td>\n",
       "    </tr>\n",
       "    <tr>\n",
       "      <th>NOTA-4</th>\n",
       "      <td>5</td>\n",
       "    </tr>\n",
       "    <tr>\n",
       "      <th>NOTA-5</th>\n",
       "      <td>4</td>\n",
       "    </tr>\n",
       "    <tr>\n",
       "      <th>NOTA-6</th>\n",
       "      <td>3</td>\n",
       "    </tr>\n",
       "    <tr>\n",
       "      <th>NOTA-7</th>\n",
       "      <td>2</td>\n",
       "    </tr>\n",
       "    <tr>\n",
       "      <th>NOTA-8</th>\n",
       "      <td>1</td>\n",
       "    </tr>\n",
       "    <tr>\n",
       "      <th>NOTA-9</th>\n",
       "      <td>1</td>\n",
       "    </tr>\n",
       "    <tr>\n",
       "      <th>TOTAL</th>\n",
       "      <td>42</td>\n",
       "    </tr>\n",
       "  </tbody>\n",
       "</table>\n",
       "</div>"
      ],
      "text/plain": [
       "        Quantidade\n",
       "NOTA-1          11\n",
       "NOTA-2           8\n",
       "NOTA-3           7\n",
       "NOTA-4           5\n",
       "NOTA-5           4\n",
       "NOTA-6           3\n",
       "NOTA-7           2\n",
       "NOTA-8           1\n",
       "NOTA-9           1\n",
       "TOTAL           42"
      ]
     },
     "execution_count": 12,
     "metadata": {},
     "output_type": "execute_result"
    }
   ],
   "source": [
    "dadosnotas = pd.DataFrame({\"NOTA\":[5,8,8,6,5,6,8,4,2,6,8,2,4,9,7,1,8,5,9,5,8,6,3,5,5,5,7,4,7,7,6,6,9,8,5,6,7,5,5,5,9,8]}).value_counts().to_frame()\n",
    "print(\"Calouros de Administração Avaliados:\")\n",
    "total = pd.concat([dadosnotas,dadosnotas.sum().to_frame()])\n",
    "total.index=[\"NOTA-1\",\"NOTA-2\",\"NOTA-3\",\"NOTA-4\",\"NOTA-5\",\"NOTA-6\",\"NOTA-7\",\"NOTA-8\",\"NOTA-9\",\"TOTAL\"]\n",
    "total.columns=[\"Quantidade\"]\n",
    "total"
   ]
  },
  {
   "cell_type": "code",
   "execution_count": 13,
   "id": "c3571ef3",
   "metadata": {},
   "outputs": [
    {
     "data": {
      "text/html": [
       "<div>\n",
       "<style scoped>\n",
       "    .dataframe tbody tr th:only-of-type {\n",
       "        vertical-align: middle;\n",
       "    }\n",
       "\n",
       "    .dataframe tbody tr th {\n",
       "        vertical-align: top;\n",
       "    }\n",
       "\n",
       "    .dataframe thead th {\n",
       "        text-align: right;\n",
       "    }\n",
       "</style>\n",
       "<table border=\"1\" class=\"dataframe\">\n",
       "  <thead>\n",
       "    <tr style=\"text-align: right;\">\n",
       "      <th></th>\n",
       "      <th>FREQUENCIA ABSOLUTA</th>\n",
       "      <th>FREQUENCIA RELATIVA</th>\n",
       "    </tr>\n",
       "  </thead>\n",
       "  <tbody>\n",
       "    <tr>\n",
       "      <th>NOTA-1</th>\n",
       "      <td>1</td>\n",
       "      <td>0.02</td>\n",
       "    </tr>\n",
       "    <tr>\n",
       "      <th>NOTA-2</th>\n",
       "      <td>2</td>\n",
       "      <td>0.05</td>\n",
       "    </tr>\n",
       "    <tr>\n",
       "      <th>NOTA-3</th>\n",
       "      <td>1</td>\n",
       "      <td>0.02</td>\n",
       "    </tr>\n",
       "    <tr>\n",
       "      <th>NOTA-4</th>\n",
       "      <td>3</td>\n",
       "      <td>0.07</td>\n",
       "    </tr>\n",
       "    <tr>\n",
       "      <th>NOTA-5</th>\n",
       "      <td>11</td>\n",
       "      <td>0.26</td>\n",
       "    </tr>\n",
       "    <tr>\n",
       "      <th>NOTA-6</th>\n",
       "      <td>7</td>\n",
       "      <td>0.17</td>\n",
       "    </tr>\n",
       "    <tr>\n",
       "      <th>NOTA-7</th>\n",
       "      <td>5</td>\n",
       "      <td>0.12</td>\n",
       "    </tr>\n",
       "    <tr>\n",
       "      <th>NOTA-8</th>\n",
       "      <td>8</td>\n",
       "      <td>0.19</td>\n",
       "    </tr>\n",
       "    <tr>\n",
       "      <th>NOTA-9</th>\n",
       "      <td>4</td>\n",
       "      <td>0.10</td>\n",
       "    </tr>\n",
       "    <tr>\n",
       "      <th>TOTAL</th>\n",
       "      <td>42</td>\n",
       "      <td>1.00</td>\n",
       "    </tr>\n",
       "  </tbody>\n",
       "</table>\n",
       "</div>"
      ],
      "text/plain": [
       "        FREQUENCIA ABSOLUTA FREQUENCIA RELATIVA\n",
       "NOTA-1                    1                0.02\n",
       "NOTA-2                    2                0.05\n",
       "NOTA-3                    1                0.02\n",
       "NOTA-4                    3                0.07\n",
       "NOTA-5                   11                0.26\n",
       "NOTA-6                    7                0.17\n",
       "NOTA-7                    5                0.12\n",
       "NOTA-8                    8                0.19\n",
       "NOTA-9                    4                0.10\n",
       "TOTAL                    42                1.00"
      ]
     },
     "execution_count": 13,
     "metadata": {},
     "output_type": "execute_result"
    }
   ],
   "source": [
    "#Os dados usados aqui, foram encontrados na célula acima.\n",
    "\n",
    "dadosnota = pd.DataFrame({\"FREQUENCIA ABSOLUTA\":[1,2,1,3,11,7,5,8,4,42],\n",
    "                          \"FREQUENCIA RELATIVA\":[\"{:.2f}\".format(1/42),\"{:.2f}\".format(2/42),\"{:.2f}\".format(1/42),\n",
    "                                                 \"{:.2f}\".format(3/42),\"{:.2f}\".format(11/42),\"{:.2f}\".format(7/42),\n",
    "                                                 \"{:.2f}\".format(5/42),\"{:.2f}\".format(8/42),\"{:.2f}\".format(4/42),\"{:.2f}\".format(42/42)]})\n",
    "dadosnota.index=[\"NOTA-1\",\"NOTA-2\",\"NOTA-3\",\"NOTA-4\",\"NOTA-5\",\"NOTA-6\",\"NOTA-7\",\"NOTA-8\",\"NOTA-9\",\"TOTAL\"]\n",
    "dadosnota.columns=[\"FREQUENCIA ABSOLUTA\",\"FREQUENCIA RELATIVA\"]\n",
    "dadosnota"
   ]
  },
  {
   "cell_type": "markdown",
   "id": "0f2efd5f",
   "metadata": {},
   "source": [
    "<p><strong><center>3. Considere os dados da tabela abaixo, referentes a um levantamento feito por professores da Universidade Federal de Santa Catarina (UFSC), onde o principal objetivo era avaliar\n",
    "os efeitos políticos dos programas de alimentação popular. Aqui temos dados referentes a\n",
    "40 famílias resi- dentes no Conjunto Residencial Monte Verde, considerando as seguintes\n",
    "variáveis:<br>\n",
    "<br>• PAP: variável indicadora de uso de programas de alimentação (1 = Sim; 0 = Não);<br>\n",
    "<br>• GI: grau de instrução do chefe da casa (1 = nenhum grau oficialmente completo; 2 = primeiro grau completo; 3 = segundo grau completo);<br>\n",
    "<br>• RES: número de pessoas residentes na casa;<br>\n",
    "<br>• RENDA: renda familiar mensal, em salários mínimos.</center></strong></p>"
   ]
  },
  {
   "cell_type": "markdown",
   "id": "69ec91b6",
   "metadata": {},
   "source": [
    "<p><strong><center>(a) Classifique as variáveis envolvidas;</center></strong></p>\n"
   ]
  },
  {
   "cell_type": "code",
   "execution_count": 14,
   "id": "e4154f60",
   "metadata": {},
   "outputs": [
    {
     "data": {
      "text/html": [
       "<div>\n",
       "<style scoped>\n",
       "    .dataframe tbody tr th:only-of-type {\n",
       "        vertical-align: middle;\n",
       "    }\n",
       "\n",
       "    .dataframe tbody tr th {\n",
       "        vertical-align: top;\n",
       "    }\n",
       "\n",
       "    .dataframe thead th {\n",
       "        text-align: right;\n",
       "    }\n",
       "</style>\n",
       "<table border=\"1\" class=\"dataframe\">\n",
       "  <thead>\n",
       "    <tr style=\"text-align: right;\">\n",
       "      <th></th>\n",
       "      <th>PAP</th>\n",
       "      <th>GUI</th>\n",
       "      <th>RES</th>\n",
       "      <th>RENDA</th>\n",
       "    </tr>\n",
       "  </thead>\n",
       "  <tbody>\n",
       "    <tr>\n",
       "      <th>TIPO</th>\n",
       "      <td>QUALITATIVA</td>\n",
       "      <td>QUALITATIVA</td>\n",
       "      <td>QUANTITATIVA</td>\n",
       "      <td>QUANTITATIVA</td>\n",
       "    </tr>\n",
       "  </tbody>\n",
       "</table>\n",
       "</div>"
      ],
      "text/plain": [
       "              PAP          GUI           RES         RENDA\n",
       "TIPO  QUALITATIVA  QUALITATIVA  QUANTITATIVA  QUANTITATIVA"
      ]
     },
     "execution_count": 14,
     "metadata": {},
     "output_type": "execute_result"
    }
   ],
   "source": [
    "dados = pd.DataFrame({\"PAP\":[\"QUALITATIVA\"],\"GUI\":[\"QUALITATIVA\"],\"RES\":[\"QUANTITATIVA\"],\"RENDA\":[\"QUANTITATIVA\"]})\n",
    "dados.index = [\"TIPO\"]\n",
    "dados"
   ]
  },
  {
   "cell_type": "markdown",
   "id": "00a5edbd",
   "metadata": {},
   "source": [
    "<p><strong><center>(b) Construa a tabela de freqüências apropriada para cada uma das variáveis qualitativas.</center></strong></p>"
   ]
  },
  {
   "cell_type": "code",
   "execution_count": 15,
   "id": "d6c81f1a",
   "metadata": {},
   "outputs": [
    {
     "name": "stdout",
     "output_type": "stream",
     "text": [
      "Uso de programas de alimentação:\n"
     ]
    },
    {
     "data": {
      "text/html": [
       "<div>\n",
       "<style scoped>\n",
       "    .dataframe tbody tr th:only-of-type {\n",
       "        vertical-align: middle;\n",
       "    }\n",
       "\n",
       "    .dataframe tbody tr th {\n",
       "        vertical-align: top;\n",
       "    }\n",
       "\n",
       "    .dataframe thead th {\n",
       "        text-align: right;\n",
       "    }\n",
       "</style>\n",
       "<table border=\"1\" class=\"dataframe\">\n",
       "  <thead>\n",
       "    <tr style=\"text-align: right;\">\n",
       "      <th></th>\n",
       "      <th>Quantidade</th>\n",
       "    </tr>\n",
       "  </thead>\n",
       "  <tbody>\n",
       "    <tr>\n",
       "      <th>UTILIZA</th>\n",
       "      <td>24</td>\n",
       "    </tr>\n",
       "    <tr>\n",
       "      <th>NÃO UTILIZA</th>\n",
       "      <td>16</td>\n",
       "    </tr>\n",
       "    <tr>\n",
       "      <th>TOTAL</th>\n",
       "      <td>40</td>\n",
       "    </tr>\n",
       "  </tbody>\n",
       "</table>\n",
       "</div>"
      ],
      "text/plain": [
       "             Quantidade\n",
       "UTILIZA              24\n",
       "NÃO UTILIZA          16\n",
       "TOTAL                40"
      ]
     },
     "execution_count": 15,
     "metadata": {},
     "output_type": "execute_result"
    }
   ],
   "source": [
    "dadospap = pd.DataFrame({\"PAP\":[0,0,1,0,1,1,0,1,1,1,0,1,0,0,0,0,1,0,0,1,1,1,0,0,0,1,1,0,1,0,1,1,1,1,1,1,1,1,1,1]}).value_counts().to_frame()\n",
    "print(\"Uso de programas de alimentação:\")\n",
    "total = pd.concat([dadospap,dadospap.sum().to_frame()])\n",
    "total.index=[\"UTILIZA\",\"NÃO UTILIZA\",\"TOTAL\"]\n",
    "total.columns=[\"Quantidade\"]\n",
    "total"
   ]
  },
  {
   "cell_type": "code",
   "execution_count": 16,
   "id": "a46dc929",
   "metadata": {},
   "outputs": [
    {
     "data": {
      "text/html": [
       "<div>\n",
       "<style scoped>\n",
       "    .dataframe tbody tr th:only-of-type {\n",
       "        vertical-align: middle;\n",
       "    }\n",
       "\n",
       "    .dataframe tbody tr th {\n",
       "        vertical-align: top;\n",
       "    }\n",
       "\n",
       "    .dataframe thead th {\n",
       "        text-align: right;\n",
       "    }\n",
       "</style>\n",
       "<table border=\"1\" class=\"dataframe\">\n",
       "  <thead>\n",
       "    <tr style=\"text-align: right;\">\n",
       "      <th></th>\n",
       "      <th>FREQUENCIA ABSOLUTA</th>\n",
       "      <th>FREQUENCIA RELATIVA</th>\n",
       "    </tr>\n",
       "  </thead>\n",
       "  <tbody>\n",
       "    <tr>\n",
       "      <th>UTILIZA</th>\n",
       "      <td>24</td>\n",
       "      <td>0.60</td>\n",
       "    </tr>\n",
       "    <tr>\n",
       "      <th>NÃO UTILIZA</th>\n",
       "      <td>16</td>\n",
       "      <td>0.40</td>\n",
       "    </tr>\n",
       "    <tr>\n",
       "      <th>TOTAL</th>\n",
       "      <td>40</td>\n",
       "      <td>1.00</td>\n",
       "    </tr>\n",
       "  </tbody>\n",
       "</table>\n",
       "</div>"
      ],
      "text/plain": [
       "             FREQUENCIA ABSOLUTA FREQUENCIA RELATIVA\n",
       "UTILIZA                       24                0.60\n",
       "NÃO UTILIZA                   16                0.40\n",
       "TOTAL                         40                1.00"
      ]
     },
     "execution_count": 16,
     "metadata": {},
     "output_type": "execute_result"
    }
   ],
   "source": [
    "#Os dados usados aqui, foram encontrados na célula acima.\n",
    "\n",
    "dadospap = pd.DataFrame({\"FREQUENCIA ABSOLUTA\":[24,16,40],\n",
    "                         \"FREQUENCIA RELATIVA\":[\"{:.2f}\".format(24/40),\"{:.2f}\".format(16/40),\"{:.2f}\".format(40/40)]})\n",
    "dadospap.index=[\"UTILIZA\",\"NÃO UTILIZA\",\"TOTAL\"]\n",
    "dadospap.columns=[\"FREQUENCIA ABSOLUTA\",\"FREQUENCIA RELATIVA\"]\n",
    "dadospap"
   ]
  },
  {
   "cell_type": "code",
   "execution_count": 17,
   "id": "206802c5",
   "metadata": {},
   "outputs": [
    {
     "name": "stdout",
     "output_type": "stream",
     "text": [
      "Grau de instrução do chefe da casa\n"
     ]
    },
    {
     "data": {
      "text/html": [
       "<div>\n",
       "<style scoped>\n",
       "    .dataframe tbody tr th:only-of-type {\n",
       "        vertical-align: middle;\n",
       "    }\n",
       "\n",
       "    .dataframe tbody tr th {\n",
       "        vertical-align: top;\n",
       "    }\n",
       "\n",
       "    .dataframe thead th {\n",
       "        text-align: right;\n",
       "    }\n",
       "</style>\n",
       "<table border=\"1\" class=\"dataframe\">\n",
       "  <thead>\n",
       "    <tr style=\"text-align: right;\">\n",
       "      <th></th>\n",
       "      <th>Quantidade</th>\n",
       "    </tr>\n",
       "  </thead>\n",
       "  <tbody>\n",
       "    <tr>\n",
       "      <th>GRAU-3</th>\n",
       "      <td>23</td>\n",
       "    </tr>\n",
       "    <tr>\n",
       "      <th>GRAU-2</th>\n",
       "      <td>11</td>\n",
       "    </tr>\n",
       "    <tr>\n",
       "      <th>GRAU-1</th>\n",
       "      <td>6</td>\n",
       "    </tr>\n",
       "    <tr>\n",
       "      <th>TOTAL</th>\n",
       "      <td>40</td>\n",
       "    </tr>\n",
       "  </tbody>\n",
       "</table>\n",
       "</div>"
      ],
      "text/plain": [
       "        Quantidade\n",
       "GRAU-3          23\n",
       "GRAU-2          11\n",
       "GRAU-1           6\n",
       "TOTAL           40"
      ]
     },
     "execution_count": 17,
     "metadata": {},
     "output_type": "execute_result"
    }
   ],
   "source": [
    "dadosGI = pd.DataFrame({\"GI\":[3,3,2,2,3,1,3,3,3,2,2,1,2,2,3,2,3,3,3,3,3,3,3,2,2,3,1,3,2,3,3,2,3,1,1,1,3,3,3,3]}).value_counts().to_frame()\n",
    "print(\"Grau de instrução do chefe da casa\")\n",
    "total = pd.concat([dadosGI,dadosGI.sum().to_frame()])\n",
    "total.index=[\"GRAU-3\",\"GRAU-2\",\"GRAU-1\",\"TOTAL\"]\n",
    "total.columns=[\"Quantidade\"]\n",
    "total"
   ]
  },
  {
   "cell_type": "code",
   "execution_count": 18,
   "id": "8bd9d865",
   "metadata": {},
   "outputs": [
    {
     "data": {
      "text/html": [
       "<div>\n",
       "<style scoped>\n",
       "    .dataframe tbody tr th:only-of-type {\n",
       "        vertical-align: middle;\n",
       "    }\n",
       "\n",
       "    .dataframe tbody tr th {\n",
       "        vertical-align: top;\n",
       "    }\n",
       "\n",
       "    .dataframe thead th {\n",
       "        text-align: right;\n",
       "    }\n",
       "</style>\n",
       "<table border=\"1\" class=\"dataframe\">\n",
       "  <thead>\n",
       "    <tr style=\"text-align: right;\">\n",
       "      <th></th>\n",
       "      <th>FREQUENCIA ABSOLUTA</th>\n",
       "      <th>FREQUENCIA RELATIVA</th>\n",
       "    </tr>\n",
       "  </thead>\n",
       "  <tbody>\n",
       "    <tr>\n",
       "      <th>GRAU-1</th>\n",
       "      <td>6</td>\n",
       "      <td>0.15</td>\n",
       "    </tr>\n",
       "    <tr>\n",
       "      <th>GRAU-2</th>\n",
       "      <td>11</td>\n",
       "      <td>0.28</td>\n",
       "    </tr>\n",
       "    <tr>\n",
       "      <th>GRAU-3</th>\n",
       "      <td>23</td>\n",
       "      <td>0.57</td>\n",
       "    </tr>\n",
       "    <tr>\n",
       "      <th>TOTAL</th>\n",
       "      <td>40</td>\n",
       "      <td>1.00</td>\n",
       "    </tr>\n",
       "  </tbody>\n",
       "</table>\n",
       "</div>"
      ],
      "text/plain": [
       "        FREQUENCIA ABSOLUTA FREQUENCIA RELATIVA\n",
       "GRAU-1                    6                0.15\n",
       "GRAU-2                   11                0.28\n",
       "GRAU-3                   23                0.57\n",
       "TOTAL                    40                1.00"
      ]
     },
     "execution_count": 18,
     "metadata": {},
     "output_type": "execute_result"
    }
   ],
   "source": [
    "#Os dados usados aqui, foram encontrados na célula acima.\n",
    "\n",
    "dadosGI = pd.DataFrame({\"FREQUENCIA ABSOLUTA\":[6,11,23,40],\n",
    "                         \"FREQUENCIA RELATIVA\":[\"{:.2f}\".format(6/40),\"{:.2f}\".format(11/40),\"{:.2f}\".format(23/40),\"{:.2f}\".format(40/40)]})\n",
    "dadosGI.index=[\"GRAU-1\",\"GRAU-2\",\"GRAU-3\",\"TOTAL\"]\n",
    "dadosGI.columns=[\"FREQUENCIA ABSOLUTA\",\"FREQUENCIA RELATIVA\"]\n",
    "dadosGI "
   ]
  }
 ],
 "metadata": {
  "kernelspec": {
   "display_name": "Python 3",
   "language": "python",
   "name": "python3"
  },
  "language_info": {
   "codemirror_mode": {
    "name": "ipython",
    "version": 3
   },
   "file_extension": ".py",
   "mimetype": "text/x-python",
   "name": "python",
   "nbconvert_exporter": "python",
   "pygments_lexer": "ipython3",
   "version": "3.8.8"
  }
 },
 "nbformat": 4,
 "nbformat_minor": 5
}
