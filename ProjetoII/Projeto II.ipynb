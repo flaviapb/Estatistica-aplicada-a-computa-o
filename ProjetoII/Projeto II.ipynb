{
 "cells": [
  {
   "cell_type": "code",
   "execution_count": 11,
   "id": "501a1543",
   "metadata": {},
   "outputs": [
    {
     "name": "stderr",
     "output_type": "stream",
     "text": [
      "b'Skipping line 109: expected 1 fields, saw 2\\nSkipping line 128: expected 1 fields, saw 352\\nSkipping line 129: expected 1 fields, saw 2\\nSkipping line 144: expected 1 fields, saw 3\\nSkipping line 196: expected 1 fields, saw 3\\nSkipping line 210: expected 1 fields, saw 6\\nSkipping line 247: expected 1 fields, saw 4\\nSkipping line 251: expected 1 fields, saw 2\\nSkipping line 268: expected 1 fields, saw 2\\nSkipping line 269: expected 1 fields, saw 2\\nSkipping line 275: expected 1 fields, saw 2\\nSkipping line 278: expected 1 fields, saw 2\\nSkipping line 286: expected 1 fields, saw 4\\nSkipping line 292: expected 1 fields, saw 2\\nSkipping line 297: expected 1 fields, saw 2\\nSkipping line 298: expected 1 fields, saw 2\\nSkipping line 299: expected 1 fields, saw 2\\nSkipping line 300: expected 1 fields, saw 2\\nSkipping line 301: expected 1 fields, saw 2\\nSkipping line 307: expected 1 fields, saw 2\\nSkipping line 308: expected 1 fields, saw 2\\nSkipping line 309: expected 1 fields, saw 2\\nSkipping line 310: expected 1 fields, saw 2\\nSkipping line 317: expected 1 fields, saw 2\\nSkipping line 325: expected 1 fields, saw 4\\nSkipping line 330: expected 1 fields, saw 2\\nSkipping line 333: expected 1 fields, saw 2\\nSkipping line 334: expected 1 fields, saw 2\\nSkipping line 338: expected 1 fields, saw 2\\nSkipping line 359: expected 1 fields, saw 2\\nSkipping line 558: expected 1 fields, saw 6\\nSkipping line 559: expected 1 fields, saw 3\\nSkipping line 566: expected 1 fields, saw 6\\nSkipping line 567: expected 1 fields, saw 6\\nSkipping line 656: expected 1 fields, saw 6\\nSkipping line 665: expected 1 fields, saw 6\\nSkipping line 680: expected 1 fields, saw 6\\nSkipping line 704: expected 1 fields, saw 3\\nSkipping line 715: expected 1 fields, saw 3\\nSkipping line 726: expected 1 fields, saw 3\\nSkipping line 737: expected 1 fields, saw 3\\nSkipping line 748: expected 1 fields, saw 3\\nSkipping line 759: expected 1 fields, saw 3\\nSkipping line 770: expected 1 fields, saw 3\\nSkipping line 781: expected 1 fields, saw 3\\nSkipping line 1037: expected 1 fields, saw 7\\nSkipping line 1100: expected 1 fields, saw 2\\nSkipping line 1187: expected 1 fields, saw 2\\nSkipping line 1190: expected 1 fields, saw 2\\nSkipping line 1217: expected 1 fields, saw 2\\nSkipping line 1219: expected 1 fields, saw 2\\nSkipping line 1240: expected 1 fields, saw 2\\nSkipping line 1282: expected 1 fields, saw 2\\nSkipping line 1283: expected 1 fields, saw 6\\nSkipping line 1284: expected 1 fields, saw 6\\nSkipping line 1285: expected 1 fields, saw 6\\nSkipping line 1286: expected 1 fields, saw 6\\nSkipping line 1287: expected 1 fields, saw 3\\nSkipping line 1296: expected 1 fields, saw 6\\nSkipping line 1297: expected 1 fields, saw 6\\nSkipping line 1298: expected 1 fields, saw 6\\nSkipping line 1299: expected 1 fields, saw 6\\nSkipping line 1300: expected 1 fields, saw 6\\nSkipping line 1301: expected 1 fields, saw 3\\n'\n"
     ]
    }
   ],
   "source": [
    "import pandas as pd\n",
    "import numpy as np \n",
    "\n",
    "dados1 = pd.read_csv(\"https://github.com/flaviapb/Statistic/blob/main/ProjetoII/police.csv\",error_bad_lines=False)"
   ]
  },
  {
   "cell_type": "code",
   "execution_count": null,
   "id": "dfef0307",
   "metadata": {},
   "outputs": [],
   "source": []
  },
  {
   "cell_type": "code",
   "execution_count": null,
   "id": "9c1f5423",
   "metadata": {},
   "outputs": [],
   "source": []
  }
 ],
 "metadata": {
  "kernelspec": {
   "display_name": "Python 3",
   "language": "python",
   "name": "python3"
  },
  "language_info": {
   "codemirror_mode": {
    "name": "ipython",
    "version": 3
   },
   "file_extension": ".py",
   "mimetype": "text/x-python",
   "name": "python",
   "nbconvert_exporter": "python",
   "pygments_lexer": "ipython3",
   "version": "3.8.8"
  }
 },
 "nbformat": 4,
 "nbformat_minor": 5
}
