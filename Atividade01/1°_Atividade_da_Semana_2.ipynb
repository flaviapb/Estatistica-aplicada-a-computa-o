{
 "cells": [
  {
   "cell_type": "markdown",
   "id": "c2777215",
   "metadata": {},
   "source": [
    "<h4>Campus Campina Grande</h4>\n",
    "<h4>Curso: Engenharia de Computação</h4>\n",
    "<h4>Disciplina: Estatística aplicada a computação</h4>\n",
    "<h4>Professor: Paulo Ribeiro Lins Júnior</h4>\n",
    "<h4>Aluno: Flávia Renata Vieira do Nascimento</h4>\n",
    "<hr>\n",
    "<center><h1>Lista de Exercicio da Semana 2</h1></center> \n",
    "<hr>\n",
    "<br>\n"
   ]
  },
  {
   "cell_type": "markdown",
   "id": "d62d21cb",
   "metadata": {},
   "source": [
    " <center><h3> 01.Como importar a biblioteca numpy e verificar a versão utilizada? </h3></center>\n"
   ]
  },
  {
   "cell_type": "code",
   "execution_count": null,
   "id": "bf81ca23",
   "metadata": {},
   "outputs": [],
   "source": [
    "import numpy #Importando \n",
    "print(\"Sua versão = {}\".format(numpy.version.version)) #Imprimindo qual a versão."
   ]
  },
  {
   "cell_type": "markdown",
   "id": "2cb837d7",
   "metadata": {},
   "source": [
    "<center><h3>02. Explique, com suas palavras, os conceitos de vetorização e broadcasting que Numpy implementa.</h3></center>\n"
   ]
  },
  {
   "cell_type": "markdown",
   "id": "bc22315e",
   "metadata": {},
   "source": [
    "<h4><center> Respostas </center></h4>\n",
    "<p>Vetorização → Visto que quando criamos arrays, o objetivo(quase sempre) é guardar grandes quantidades de dados, e para manipular(aplicar funções) esses/nesses dados, normalmente utilizamos estruturas de repetição(Loop for, por exemplo), mas essa estrutura causa uma certa lentidão, por isso, utilizamos o conceito de vetorização que nos permite aplicar uma função(fazer manipulação) em um array inteiro, e não de elemento a elemento como os loop for, fazendo o processo ser mais rápido e eficaz. </p>\n"
   ]
  },
  {
   "cell_type": "code",
   "execution_count": null,
   "id": "9c2d0e9d",
   "metadata": {},
   "outputs": [],
   "source": [
    "                                            #Exemplo de vetorização\n",
    "\n",
    "import numpy as np #Importando\n",
    "\n",
    "array1 = np.random.randint(1, 10, 20) #Criando uma array com números entre 10 e 20, começando do 1\n",
    "\n",
    "def calc(num): #Criando função para analisar e manipular o array\n",
    "    if num > 10:\n",
    "        return num * 3 #Maiores que 10 multiplica por 3\n",
    "    else:\n",
    "        return num * 2 #Menores que 10 multiplica por 2\n",
    "    \n",
    "vetorizar_calc = np.vectorize(calc) #Aqui está acontecendo a vetorização, ou seja, v_calc_func(Variavel)...\n",
    "                                        #...que recebe a função vectorize que vai vetorizar a função calc.\n",
    "\n",
    "vetorizar_calc(array1) #Aqui vai vetorizar o array e aplicar a função no array1 todo de uma vez.\n"
   ]
  },
  {
   "cell_type": "markdown",
   "id": "bf8ff55e",
   "metadata": {},
   "source": [
    "<p>Broadcasting → É um termo, que trata a forma como o numpy faz operações aritméticas nos arrays.</p>\n"
   ]
  },
  {
   "cell_type": "code",
   "execution_count": null,
   "id": "2cae3c96",
   "metadata": {},
   "outputs": [],
   "source": [
    "                                        #Exemplo de Broadcasting\n",
    "\n",
    "import numpy as np #importando\n",
    "array1 = np.array([[1, 2, 3],[4, 5, 6],[7, 8, 9]]) #Criando o primeiro array\n",
    "print(\"Array1 sem atribuição:\\n {}\".format(array1))\n",
    "print(\"\\n Array1 com atribuição:\\n {}\".format(array1 + 1))#Aqui é somado 1 a cada elemento do array, é como se isso tivesse acontecendo: [[1,1,1],[1,1,1],[1,1,1]]\n",
    "array2 = np.array([10, 11, 12]) #Criando o segundo array\n",
    "print(\"\\nArray2 sem atribuição:\\n {}\".format(array2))\n",
    "print(\"\\n Array2 com atribuição: \\n {}\".format(array1 + array2))#Somando os dois array, ou seja, dois arrays tem o mesmo comprimento numa dimensão."
   ]
  },
  {
   "cell_type": "markdown",
   "id": "ab7f34bb",
   "metadata": {},
   "source": [
    "<center> <h3>3.Liste as diferenças entre uma lista, um dicionário, um array numpy, dando exemplos de aplicação de em que cada tipo seria mais interessante. </h3></center>\n",
    "\n"
   ]
  },
  {
   "cell_type": "markdown",
   "id": "532ba32e",
   "metadata": {},
   "source": [
    "<h4><center>Respostas</center></h4>\n",
    "\n",
    "<p>Listas: São compostas por uma ordem de elementos organizados de forma linear, e cada elemento pode ser acessado pelo seu índice, que representa sua posição(Inicia em zero). São ordenadas e delimitadas é feita por colchetes.<br>\n",
    "    <br>\n",
    "    Dicionários: São estruturados com dois parâmetros(chaves e valor), servem para implementar mapeamento. E diferente da lista, ela é indexada por chaves e não por índices, e sua delimitação é feita por chaves. <br>\n",
    "    <br>\n",
    "    Array Nnumpy: Podemos definir como uma tabela multidimensional com elementos do mesmo tipo, o que já diferencia das outras estruturas citadas, pois só recebe elementos do mesmo tipo, tem capacidade de vetorização que facilita bastante em qualquer operação, tornando tudo a operação computacionamente mais eficiente.</p>"
   ]
  },
  {
   "cell_type": "code",
   "execution_count": null,
   "id": "bd183446",
   "metadata": {},
   "outputs": [],
   "source": [
    "                                        #Aplicação que mais se encaixa\n",
    "\n",
    "#Dicionarios: Agenda telefânica \n",
    "contatos = {\"D\":{\"Nome\": \"Daniela\", \n",
    "                 \"Telefone\": \"7658-2091\",\n",
    "                 \"Email\": \"daniela.sato@enterprises.com\"},\n",
    "            \n",
    "            'F':{\"Nome\": \"Flávia\",\n",
    "                 \"Telefone\": \"99234-1234\",\n",
    "                 \"Email\": \"flavia@email.com\"},\n",
    "            \n",
    "            \"G\":{\"Nome\": \"Gabriel\", \n",
    "                 \"Telefone\": \"7643-2431\",\n",
    "                 \"Email\": \"gabriel543@gmail.com\"}\n",
    "            } \n",
    "print(\"Biblioteca -->\",contatos[\"F\"],\"\\n\")\n",
    "\n",
    "\n",
    "#Lista: Guardar nomes de alunos presentes na aula\n",
    "qntd_alunos = int(input(\"Quantos alunos estavam presentes na aula hoje: \"))\n",
    "turma = []\n",
    "for i in range(qntd_alunos):\n",
    "    nome = input(\"Digite o nome do aluno {}: \".format(i+1))\n",
    "    turma.append(nome)\n",
    "print(\"Lista -->\",turma,\"\\n\")\n",
    "\n",
    "\n",
    "#Array numpy: Por ser uma ferramenta computacional, podemos obter: \n",
    "'''Pixels de uma imagem;\n",
    "   Ondas sonoras;\n",
    "   entre outros.... \n",
    "'''\n"
   ]
  },
  {
   "cell_type": "markdown",
   "id": "83c5ac0d",
   "metadata": {},
   "source": [
    "<h1> <center>4. Forme a matriz, usando lista e array Numpy:</center></h1>\n",
    "<p><center>[[1, 6, 11],<br>\n",
    "    [2, 7, 12],<br>\n",
    "    [3, 8, 13],<br>\n",
    "    [4, 9, 14],<br>\n",
    "    [5, 10, 15],<br></center></p>\n"
   ]
  },
  {
   "cell_type": "code",
   "execution_count": null,
   "id": "1b1cb95f",
   "metadata": {},
   "outputs": [],
   "source": [
    "#Usando lista\n",
    "\n",
    "import random\n",
    "matriz = []\n",
    "num = 0\n",
    "print(\"Utilizando Lista: \\n\")\n",
    "for col in range(3):\n",
    "    lista = []\n",
    "    for lin in range(5):\n",
    "        num += 1\n",
    "        lista.append(num)\n",
    "    matriz.append(lista)\n",
    "\n",
    "for i in range (5):\n",
    "    for j in range(3):\n",
    "        print(matriz[j][i], end=\" \")\n",
    "    print()\n",
    "\n",
    "    \n",
    "    \n",
    "#Ussando Array Numpy \n",
    "import numpy as np\n",
    "matriz2 = np.arange(1,16).reshape(5,3,order='f')\n",
    "print(\"\\nUtilizando Array Numpy: \\n\")\n",
    "print(matriz2)\n"
   ]
  },
  {
   "cell_type": "markdown",
   "id": "c157c073",
   "metadata": {},
   "source": [
    "### <center><h1>5. Usando numpy, crie:</h1></center>\n",
    "\n",
    "<p><center>(a) um vetor de 10 elementos entre 1 e 20<br>\n",
    "           (b) um vetor entre 1 e 20, com passo de 2<br>\n",
    "           (c) uma matriz 3x3 cujos elementos da diagonal sejam o vetor [1,2,3] e os demais sejam todos 0.</center></p>\n",
    "\n",
    "            \n",
    "\n"
   ]
  },
  {
   "cell_type": "code",
   "execution_count": null,
   "id": "299f6e90",
   "metadata": {},
   "outputs": [],
   "source": [
    "#(a) um vetor de 10 elementos entre 1 e 20\n",
    "\n",
    "vetor = np.random.randint(1, 20, 10)\n",
    "print(\"Seu vetor com valores entre 1 e 20, com 10 elementos: {}\".format(vetor))"
   ]
  },
  {
   "cell_type": "code",
   "execution_count": null,
   "id": "58e6b56d",
   "metadata": {},
   "outputs": [],
   "source": [
    "#(b) um vetor entre 1 e 20, com passo de 2\n",
    "\n",
    "vetor2 = np.arange(1,20,2)\n",
    "print(\"Seu vetor com valores entre 1 e 20, com passo de 2: {}\".format(vetor2))"
   ]
  },
  {
   "cell_type": "code",
   "execution_count": null,
   "id": "2b7dd28d",
   "metadata": {},
   "outputs": [],
   "source": [
    "#(c) uma matriz 3x3 cujos elementos da diagonal sejam o vetor [1,2,3] e os demais sejam todos 0.\n",
    "\n",
    "vetor3 = np.diag([1,2,3])\n",
    "print(\"Seu vetor com valores nulos menos na diagonal: \\n{}\".format(vetor3))"
   ]
  }
 ],
 "metadata": {
  "kernelspec": {
   "display_name": "Python 3",
   "language": "python",
   "name": "python3"
  },
  "language_info": {
   "codemirror_mode": {
    "name": "ipython",
    "version": 3
   },
   "file_extension": ".py",
   "mimetype": "text/x-python",
   "name": "python",
   "nbconvert_exporter": "python",
   "pygments_lexer": "ipython3",
   "version": "3.8.8"
  }
 },
 "nbformat": 4,
 "nbformat_minor": 5
}
